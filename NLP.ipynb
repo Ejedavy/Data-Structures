{
  "nbformat": 4,
  "nbformat_minor": 0,
  "metadata": {
    "colab": {
      "name": "NLP.ipynb",
      "provenance": [],
      "collapsed_sections": [],
      "authorship_tag": "ABX9TyPa67yuLTKNV3cn0zbH40Fk",
      "include_colab_link": true
    },
    "kernelspec": {
      "name": "python3",
      "display_name": "Python 3"
    },
    "language_info": {
      "name": "python"
    },
    "accelerator": "TPU"
  },
  "cells": [
    {
      "cell_type": "markdown",
      "metadata": {
        "id": "view-in-github",
        "colab_type": "text"
      },
      "source": [
        "<a href=\"https://colab.research.google.com/github/Ejedavy/Data-Structures/blob/main/NLP.ipynb\" target=\"_parent\"><img src=\"https://colab.research.google.com/assets/colab-badge.svg\" alt=\"Open In Colab\"/></a>"
      ]
    },
    {
      "cell_type": "code",
      "execution_count": 1,
      "metadata": {
        "id": "EHe667ZtBhSG"
      },
      "outputs": [],
      "source": [
        "import spacy"
      ]
    },
    {
      "cell_type": "code",
      "source": [
        "import pickle\n",
        "import random"
      ],
      "metadata": {
        "id": "x-cU32msBw5w"
      },
      "execution_count": 2,
      "outputs": []
    },
    {
      "cell_type": "code",
      "source": [
        "train_data = pickle.load(open(\"train_data.pkl\",\"rb\"))"
      ],
      "metadata": {
        "id": "pbxoieE4B0Vv"
      },
      "execution_count": 3,
      "outputs": []
    },
    {
      "cell_type": "code",
      "source": [
        "nlp = spacy.blank(\"en\")"
      ],
      "metadata": {
        "id": "gDCqNJpjCRBy"
      },
      "execution_count": 4,
      "outputs": []
    },
    {
      "cell_type": "code",
      "source": [
        "def train_model(train_data):\n",
        "    if \"ner\" not in nlp.pipe_names:\n",
        "        ner = nlp.create_pipe(\"ner\")\n",
        "        nlp.add_pipe(ner, last = True)\n",
        "    else:\n",
        "        ner = nlp.get_pipe(\"ner\")\n",
        "    for _, annotation in train_data:\n",
        "        for ent in annotation[\"entities\"]:\n",
        "            ner.add_label(ent[2])\n",
        "    other_pipes = [pipe for pipe in nlp.pipe_names if pipe != \"ner\"]\n",
        "    with nlp.disable_pipes(*other_pipes):\n",
        "        optimizer = nlp.begin_training()\n",
        "        for itn in range(13):\n",
        "            print(\"Starting Iteration: \" + str(itn))\n",
        "            random.shuffle(train_data)\n",
        "            losses = {}\n",
        "            index = 0\n",
        "            for texts, annotation in train_data:\n",
        "                try:\n",
        "                    nlp.update([texts],[annotation], drop = 0.2 ,sgd = optimizer,losses = losses)\n",
        "                except Exception as e:\n",
        "                    pass\n",
        "            print(losses)"
      ],
      "metadata": {
        "id": "RYHodFwHCSw_"
      },
      "execution_count": 5,
      "outputs": []
    },
    {
      "cell_type": "code",
      "source": [
        "train_model(train_data)"
      ],
      "metadata": {
        "colab": {
          "base_uri": "https://localhost:8080/"
        },
        "id": "HLJPzZT0Ccy_",
        "outputId": "fa0abb1b-3e39-473d-d996-f36ed0c712dc"
      },
      "execution_count": 6,
      "outputs": [
        {
          "output_type": "stream",
          "name": "stdout",
          "text": [
            "Starting Iteration: 0\n",
            "{'ner': 15130.790098343145}\n",
            "Starting Iteration: 1\n",
            "{'ner': 9251.447832484648}\n",
            "Starting Iteration: 2\n",
            "{'ner': 10071.17378184712}\n",
            "Starting Iteration: 3\n",
            "{'ner': 6291.025367900517}\n",
            "Starting Iteration: 4\n",
            "{'ner': 7234.90535737507}\n",
            "Starting Iteration: 5\n",
            "{'ner': 6203.113742767736}\n",
            "Starting Iteration: 6\n",
            "{'ner': 5063.385442421836}\n",
            "Starting Iteration: 7\n",
            "{'ner': 5143.9253593314825}\n",
            "Starting Iteration: 8\n",
            "{'ner': 4402.689126920505}\n",
            "Starting Iteration: 9\n",
            "{'ner': 5360.455220037539}\n",
            "Starting Iteration: 10\n",
            "{'ner': 4566.3920999566035}\n",
            "Starting Iteration: 11\n",
            "{'ner': 4178.211273030425}\n",
            "Starting Iteration: 12\n",
            "{'ner': 4559.48641693105}\n"
          ]
        }
      ]
    },
    {
      "cell_type": "code",
      "source": [
        "nlp.to_disk('unstoppableUniverse')"
      ],
      "metadata": {
        "id": "oa9OqPIICkcQ"
      },
      "execution_count": 7,
      "outputs": []
    },
    {
      "cell_type": "code",
      "source": [
        "model = spacy.load(\"unstoppableUniverse\")"
      ],
      "metadata": {
        "id": "erbmuxwOGbak"
      },
      "execution_count": 8,
      "outputs": []
    },
    {
      "cell_type": "code",
      "source": [
        "doc = model(train_data[0][0])\n",
        "for ent in doc.ents:\n",
        "    print(f\"{ent.label_.upper()}: - {ent.text}\")"
      ],
      "metadata": {
        "colab": {
          "base_uri": "https://localhost:8080/"
        },
        "id": "LwBnSMCkGsOw",
        "outputId": "0a5af889-9a11-493b-9cf9-fca36cbecb44"
      },
      "execution_count": 9,
      "outputs": [
        {
          "output_type": "stream",
          "name": "stdout",
          "text": [
            "NAME: - Vinay Singhal\n",
            "LOCATION: - New Delhi\n",
            "EMAIL ADDRESS: - indeed.com/r/Vinay-Singhal/c15261079a9b5ae7\n",
            "DESIGNATION: - Customer Care Associate Microsoft\n",
            "COMPANIES WORKED AT: - Convergys\n",
            "SKILLS: - ❖ Smart Working. ❖ Fast and keen learner. ❖ Works well within a team and also independently. ❖ Flexible and high adaptability to new approaches, people and environments. ❖ Professional approach and positive attitude. ❖ Hard working with abstract thinking. ❖ Good personal skills like photography & software issues. ❖ Good Communications Skills\n"
          ]
        }
      ]
    },
    {
      "cell_type": "code",
      "source": [
        "!zip -r /content/unstoppableUniverse.zip /content/unstoppableUniverse"
      ],
      "metadata": {
        "id": "1vqoBe5lHS7d",
        "colab": {
          "base_uri": "https://localhost:8080/"
        },
        "outputId": "c7e34332-48e2-42d8-f031-ddfcbecfe751"
      },
      "execution_count": 10,
      "outputs": [
        {
          "output_type": "stream",
          "name": "stdout",
          "text": [
            "  adding: content/unstoppableUniverse/ (stored 0%)\n",
            "  adding: content/unstoppableUniverse/meta.json (deflated 39%)\n",
            "  adding: content/unstoppableUniverse/vocab/ (stored 0%)\n",
            "  adding: content/unstoppableUniverse/vocab/vectors (deflated 45%)\n",
            "  adding: content/unstoppableUniverse/vocab/key2row (stored 0%)\n",
            "  adding: content/unstoppableUniverse/vocab/lexemes.bin (deflated 72%)\n",
            "  adding: content/unstoppableUniverse/vocab/strings.json (deflated 72%)\n",
            "  adding: content/unstoppableUniverse/tokenizer (deflated 83%)\n",
            "  adding: content/unstoppableUniverse/ner/ (stored 0%)\n",
            "  adding: content/unstoppableUniverse/ner/cfg (deflated 48%)\n",
            "  adding: content/unstoppableUniverse/ner/model (deflated 7%)\n",
            "  adding: content/unstoppableUniverse/ner/moves (deflated 76%)\n"
          ]
        }
      ]
    },
    {
      "cell_type": "code",
      "source": [
        "!pip install PyPDF2"
      ],
      "metadata": {
        "colab": {
          "base_uri": "https://localhost:8080/"
        },
        "id": "E03DllanJ_MJ",
        "outputId": "741c5063-9f23-4dbe-c740-fd5546e7d012"
      },
      "execution_count": 11,
      "outputs": [
        {
          "output_type": "stream",
          "name": "stdout",
          "text": [
            "Collecting PyPDF2\n",
            "  Downloading PyPDF2-1.26.0.tar.gz (77 kB)\n",
            "\u001b[?25l\r\u001b[K     |████▎                           | 10 kB 21.8 MB/s eta 0:00:01\r\u001b[K     |████████▌                       | 20 kB 20.1 MB/s eta 0:00:01\r\u001b[K     |████████████▊                   | 30 kB 11.7 MB/s eta 0:00:01\r\u001b[K     |█████████████████               | 40 kB 4.8 MB/s eta 0:00:01\r\u001b[K     |█████████████████████▏          | 51 kB 4.5 MB/s eta 0:00:01\r\u001b[K     |█████████████████████████▍      | 61 kB 5.3 MB/s eta 0:00:01\r\u001b[K     |█████████████████████████████▋  | 71 kB 5.9 MB/s eta 0:00:01\r\u001b[K     |████████████████████████████████| 77 kB 3.3 MB/s \n",
            "\u001b[?25hBuilding wheels for collected packages: PyPDF2\n",
            "  Building wheel for PyPDF2 (setup.py) ... \u001b[?25l\u001b[?25hdone\n",
            "  Created wheel for PyPDF2: filename=PyPDF2-1.26.0-py3-none-any.whl size=61102 sha256=55ca7a964a3c496f1abbeb9e42ddc6ac0e9a588d0c70360d15da1725cd47400f\n",
            "  Stored in directory: /root/.cache/pip/wheels/80/1a/24/648467ade3a77ed20f35cfd2badd32134e96dd25ca811e64b3\n",
            "Successfully built PyPDF2\n",
            "Installing collected packages: PyPDF2\n",
            "Successfully installed PyPDF2-1.26.0\n"
          ]
        }
      ]
    },
    {
      "cell_type": "code",
      "source": [
        "import PyPDF2 as pdf"
      ],
      "metadata": {
        "id": "-s7cy3RuL5Ei"
      },
      "execution_count": 14,
      "outputs": []
    },
    {
      "cell_type": "code",
      "source": [
        "file = open(\"Eje David.pdf\", \"rb\")"
      ],
      "metadata": {
        "id": "YEPA4ZjGKvt0"
      },
      "execution_count": 60,
      "outputs": []
    },
    {
      "cell_type": "code",
      "source": [
        "pdf_reader  = pdf.PdfFileReader(file)"
      ],
      "metadata": {
        "id": "lio_tjMVLk5n"
      },
      "execution_count": 61,
      "outputs": []
    },
    {
      "cell_type": "code",
      "source": [
        "numberofPages = pdf_reader.getNumPages()"
      ],
      "metadata": {
        "id": "SVmcD-lGL02u"
      },
      "execution_count": 62,
      "outputs": []
    },
    {
      "cell_type": "code",
      "source": [
        "text = \"\"\n",
        "for i in range(numberofPages):\n",
        "  page = pdf_reader.getPage(i)\n",
        "  text += page.extractText()\n",
        "text = text.replace(\"\\n\",\"\")"
      ],
      "metadata": {
        "id": "1VCWD0u8MWRR"
      },
      "execution_count": 63,
      "outputs": []
    },
    {
      "cell_type": "code",
      "source": [
        "text = text.replace(\"\\n\",\"\")"
      ],
      "metadata": {
        "id": "6xTQrTFmOSKd"
      },
      "execution_count": 64,
      "outputs": []
    },
    {
      "cell_type": "code",
      "source": [
        "for ent in model(text).ents:\n",
        "  print(f\"{ent.label_.upper()} : {ent.text}\")"
      ],
      "metadata": {
        "colab": {
          "base_uri": "https://localhost:8080/"
        },
        "id": "Cv9dVTrlMyNt",
        "outputId": "be3c3020-2b41-465e-ae75-12ec7ad5c281"
      },
      "execution_count": 66,
      "outputs": [
        {
          "output_type": "stream",
          "name": "stdout",
          "text": [
            "NAME : Resume updated\n",
            "COMPANIES WORKED AT : VarsityScape Ltd\n"
          ]
        }
      ]
    },
    {
      "cell_type": "code",
      "source": [
        "from google.colab import drive\n",
        "drive.mount('/content/gdrive')"
      ],
      "metadata": {
        "colab": {
          "base_uri": "https://localhost:8080/"
        },
        "id": "F3DdpoxEMzKL",
        "outputId": "6e7d9699-dd8a-46e1-9979-5323914e824c"
      },
      "execution_count": 49,
      "outputs": [
        {
          "output_type": "stream",
          "name": "stdout",
          "text": [
            "Mounted at /content/gdrive\n"
          ]
        }
      ]
    },
    {
      "cell_type": "code",
      "source": [
        "!unzip gdrive/My\\ Drive/nlp_model.zip"
      ],
      "metadata": {
        "colab": {
          "base_uri": "https://localhost:8080/"
        },
        "id": "9FyT8-EuQD9O",
        "outputId": "a02fd051-6f5d-4aaf-aa12-3266769c78ae"
      },
      "execution_count": 54,
      "outputs": [
        {
          "output_type": "stream",
          "name": "stdout",
          "text": [
            "Archive:  gdrive/My Drive/nlp_model.zip\n",
            "  inflating: nlp_model/config.cfg    \n",
            "  inflating: nlp_model/meta.json     \n",
            "   creating: nlp_model/ner/\n",
            "  inflating: nlp_model/ner/cfg       \n",
            "  inflating: nlp_model/ner/model     \n",
            "  inflating: nlp_model/ner/moves     \n",
            "  inflating: nlp_model/tokenizer     \n",
            "   creating: nlp_model/vocab/\n",
            " extracting: nlp_model/vocab/key2row  \n",
            "  inflating: nlp_model/vocab/lexemes.bin  \n",
            "  inflating: nlp_model/vocab/lookups.bin  \n",
            "  inflating: nlp_model/vocab/strings.json  \n",
            "  inflating: nlp_model/vocab/vectors  \n"
          ]
        }
      ]
    },
    {
      "cell_type": "code",
      "source": [
        "!unzip gdrive/My\\ Drive/nlp_model.zip > /dev/null"
      ],
      "metadata": {
        "colab": {
          "base_uri": "https://localhost:8080/"
        },
        "id": "ARNhHLzGQaF6",
        "outputId": "eb48f548-6374-4c3e-f2f2-7f0917efd8a4"
      },
      "execution_count": 56,
      "outputs": [
        {
          "output_type": "stream",
          "name": "stdout",
          "text": [
            "replace nlp_model/config.cfg? [y]es, [n]o, [A]ll, [N]one, [r]ename: A\n"
          ]
        }
      ]
    },
    {
      "cell_type": "code",
      "source": [
        "model = spacy.load(\"nlp_model\")"
      ],
      "metadata": {
        "id": "5_g8oamZR8Wm"
      },
      "execution_count": 57,
      "outputs": []
    },
    {
      "cell_type": "code",
      "source": [
        "doc = model(train_data[0][0])\n",
        "for ent in doc.ents:\n",
        "    print(f\"{ent.label_.upper()}: - {ent.text}\")"
      ],
      "metadata": {
        "colab": {
          "base_uri": "https://localhost:8080/"
        },
        "id": "uH2LVzw8SOHt",
        "outputId": "305ec337-9576-47a8-e0a2-331807a7d858"
      },
      "execution_count": 58,
      "outputs": [
        {
          "output_type": "stream",
          "name": "stdout",
          "text": [
            "NAME: - Vinay Singhal\n",
            "LOCATION: - New Delhi\n",
            "EMAIL ADDRESS: - indeed.com/r/Vinay-Singhal/c15261079a9b5ae7\n",
            "DESIGNATION: - Customer Care Associate Microsoft\n"
          ]
        }
      ]
    },
    {
      "cell_type": "code",
      "source": [
        "for ent in model(text).ents:\n",
        "  print(f\"{ent.label_.upper()} : {ent.text}\")"
      ],
      "metadata": {
        "colab": {
          "base_uri": "https://localhost:8080/"
        },
        "id": "tssrl1WoSSNS",
        "outputId": "df85fc9d-a0dd-48e6-8983-b8393b5af92a"
      },
      "execution_count": 65,
      "outputs": [
        {
          "output_type": "stream",
          "name": "stdout",
          "text": [
            "NAME : Resume updated\n",
            "COMPANIES WORKED AT : VarsityScape Ltd\n"
          ]
        }
      ]
    },
    {
      "cell_type": "code",
      "source": [
        ""
      ],
      "metadata": {
        "id": "ccz3rMMfSaGb"
      },
      "execution_count": null,
      "outputs": []
    }
  ]
}